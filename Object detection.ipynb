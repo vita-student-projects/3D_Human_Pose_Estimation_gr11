{
 "cells": [
  {
   "cell_type": "code",
   "execution_count": 1,
   "id": "536ec385",
   "metadata": {
    "vscode": {
     "languageId": "shellscript"
    }
   },
   "outputs": [
    {
     "name": "stdout",
     "output_type": "stream",
     "text": [
      "\n",
      "Command 'import' not found, but can be installed with:\n",
      "\n",
      "sudo apt install graphicsmagick-imagemagick-compat  # version 1.4+really1.3.35-1ubuntu0.1, or\n",
      "sudo apt install imagemagick-6.q16                  # version 8:6.9.10.23+dfsg-2.1ubuntu11.7\n",
      "sudo apt install imagemagick-6.q16hdri              # version 8:6.9.10.23+dfsg-2.1ubuntu11.7\n",
      "\n",
      "bash: syntax error near unexpected token `('\n",
      "bash: syntax error near unexpected token `('\n",
      "bash: syntax error near unexpected token `size=(320,320),'\n",
      "classes: command not found\n",
      "bash: syntax error near unexpected token `('\n",
      "bash: syntax error near unexpected token `('\n",
      "bash: syntax error near unexpected token `('\n",
      "bash: syntax error near unexpected token `class_name'\n",
      "bash: syntax error near unexpected token `('\n",
      "bash: syntax error near unexpected token `cv2.CAP_PROP_FRAME_WIDTH,'\n",
      "bash: syntax error near unexpected token `cv2.CAP_PROP_FRAME_HEIGHT,'\n",
      "bash: syntax error near unexpected token `('\n",
      "bash: syntax error near unexpected token `='\n",
      "bash: syntax error near unexpected token `score,'\n",
      "x,: command not found\n",
      "bash: syntax error near unexpected token `('\n",
      "bash: syntax error near unexpected token `frame,'\n",
      "bash: syntax error near unexpected token `frame,'\n",
      "bash: syntax error near unexpected token `\"Frame\",'\n",
      "bash: syntax error near unexpected token `('\n",
      "bash: syntax error near unexpected token `('\n",
      "bash: syntax error near unexpected token `cv2.'\n",
      "bash: break: only meaningful in a `for', `while', or `until' loop\n"
     ]
    }
   ],
   "source": [
    "#https://www.youtube.com/watch?v=bUoWTPaKUi4\n",
    "#Press q to shut down the program\n",
    "import cv2\n",
    "\n",
    "#Neural network\n",
    "net = cv2.dnn.readNet(\"yolov4-tiny.weights\",\"yolov4-tiny.cfg\")\n",
    "model = cv2.dnn_DetectionModel(net)\n",
    "#Resize into a small square (320,320) to process a fast analysis\n",
    "#Scale because the dnn go from 0 to 1 and the pixel value from 0 to 255\n",
    "model.setInputParams(size=(320,320), scale=1/1)#255)\n",
    "\n",
    "classes = []\n",
    "with open(\"classes.txt\", \"r\") as file_object:\n",
    "    for class_name in file_object.readlines():\n",
    "        #To get the good shape of inputs\n",
    "        class_name = class_name.strip()\n",
    "        classes.append(class_name)\n",
    "\n",
    "#Camera initialization\n",
    "cap = cv2.VideoCapture(0)\n",
    "#Increase camera resolution (Care on rasp)\n",
    "cap.set(cv2.CAP_PROP_FRAME_WIDTH, 1280)\n",
    "cap.set(cv2.CAP_PROP_FRAME_HEIGHT, 720)\n",
    "#HD 1920 x 1080\n",
    "\n",
    "while True:\n",
    "    #Receive the frame\n",
    "    ret, frame = cap.read()\n",
    "    \n",
    "    \n",
    "    #Object detection\n",
    "    (class_ids, score, bound_boxes) = model.detect(frame)\n",
    "    \n",
    "    for class_ids, score, bound_boxes in zip(class_ids, score, bound_boxes):\n",
    "        x, y, w, h = bound_boxes\n",
    "        #print(x, y, h, w)\n",
    "        class_name=classes[int(class_ids)]\n",
    "        \n",
    "        if class_name==\"person\":\n",
    "        \n",
    "            cv2.putText(frame, str(class_name), (x, y - 5), cv2.FONT_HERSHEY_PLAIN, 3, (200, 0, 50), 2)\n",
    "            cv2.rectangle(frame, (x,y), (x+w,y+h), (200, 0, 50), 3)\n",
    "    #print(\"class\", class_ids)\n",
    "    #print(\"scores\", score)\n",
    "    #print(\"boxes\", bound_boxes)\n",
    "    \n",
    "    cv2.imshow(\"Frame\", frame)\n",
    "    \n",
    "    \n",
    "    k = cv2.waitKey(1)\n",
    "    if k == ord('q'):\n",
    "        cap.release()\n",
    "        cv2. destroyAllWindows()\n",
    "        break"
   ]
  },
  {
   "cell_type": "code",
   "execution_count": null,
   "id": "9b6de5fe",
   "metadata": {
    "vscode": {
     "languageId": "shellscript"
    }
   },
   "outputs": [],
   "source": []
  }
 ],
 "metadata": {
  "kernelspec": {
   "display_name": "Bash",
   "language": "bash",
   "name": "bash"
  },
  "language_info": {
   "codemirror_mode": "shell",
   "file_extension": ".sh",
   "mimetype": "text/x-sh",
   "name": "bash"
  }
 },
 "nbformat": 4,
 "nbformat_minor": 5
}
