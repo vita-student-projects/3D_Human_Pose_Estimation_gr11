{
 "cells": [
  {
   "cell_type": "code",
   "execution_count": 27,
   "id": "536ec385",
   "metadata": {},
   "outputs": [
    {
     "data": {
      "text/plain": [
       "'\\nwhile True:\\n    #Receive the frame\\n    ret, frame = cap.read()\\n    \\n    \\n    #Object detection\\n    (class_ids, score, bound_boxes) = model.detect(frame)\\n    \\n    for class_ids, score, bound_boxes in zip(class_ids, score, bound_boxes):\\n        x, y, w, h = bound_boxes\\n        #print(x, y, h, w)\\n        class_name=classes[int(class_ids)]\\n        \\n        if class_name==\"bottle\":\\n        \\n            cv2.putText(frame, str(class_name), (x, y - 5), cv2.FONT_HERSHEY_PLAIN, 3, (200, 0, 50), 2)\\n            cv2.rectangle(frame, (x,y), (x+w,y+h), (200, 0, 50), 3)\\n    #print(\"class\", class_ids)\\n    #print(\"scores\", score)\\n    #print(\"boxes\", bound_boxes)\\n    \\n    cv2.imshow(\"Frame\", frame)\\n\\n    \\n    k = cv2.waitKey(1)\\n    if k == ord(\\'q\\'):\\n        cap.release()\\n        cv2. destroyAllWindows()\\n        break\\n        \\n'"
      ]
     },
     "execution_count": 27,
     "metadata": {},
     "output_type": "execute_result"
    }
   ],
   "source": [
    "#https://www.youtube.com/watch?v=bUoWTPaKUi4\n",
    "#Press q to shut down the program\n",
    "import cv2\n",
    "import os\n",
    "#Neural network\n",
    "net = cv2.dnn.readNet(\"dnn_model\\yolov3.weights\",\"dnn_model/yolov3.cfg\")\n",
    "model = cv2.dnn_DetectionModel(net)\n",
    "#Resize into a small square (320,320) to process a fast analysis\n",
    "#Scale because the dnn go from 0 to 1 and the pixel value from 0 to 255\n",
    "model.setInputParams(size=(320,320), scale=1/255)\n",
    "\n",
    "classes = []\n",
    "with open(\"dnn_model/classes.txt\", \"r\") as file_object:\n",
    "    for class_name in file_object.readlines():\n",
    "        #To get the good shape of inputs\n",
    "        class_name = class_name.strip()\n",
    "        classes.append(class_name)\n",
    "        \n",
    "for images in \n",
    "image = cv2.imread(\"BIG_DATA/positive/1023.jpg\") \n",
    "#Object detection\n",
    "(class_ids, score, bound_boxes) = model.detect(image)\n",
    "for class_ids, score, bound_boxes in zip(class_ids, score, bound_boxes):\n",
    "        x, y, w, h = bound_boxes\n",
    "        #print(x, y, h, w)\n",
    "        class_name=classes[int(class_ids)]\n",
    "        \n",
    "        if class_name==\"bottle\":\n",
    "        \n",
    "            cv2.putText(image, str(class_name)+str(score), (x, y - 5), cv2.FONT_HERSHEY_PLAIN, 3, (200, 0, 50), 2)\n",
    "            cv2.rectangle(image, (x,y), (x+w,y+h), (200, 0, 50), 3)\n",
    "    #print(\"class\", class_ids)\n",
    "            break\n",
    "    \n",
    "cv2.imshow(\"Frame\", image)\n",
    "cv2.waitKey(0)\n",
    "    \n",
    "    \n",
    "    \n",
    "#new_img=image[y:y+h,x:x+w] \n",
    "#cv2.imwrite(str(idx) + '.png', new_img) \n",
    "\"\"\"\n",
    "while True:\n",
    "    #Receive the frame\n",
    "    ret, frame = cap.read()\n",
    "    \n",
    "    \n",
    "    #Object detection\n",
    "    (class_ids, score, bound_boxes) = model.detect(frame)\n",
    "    \n",
    "    for class_ids, score, bound_boxes in zip(class_ids, score, bound_boxes):\n",
    "        x, y, w, h = bound_boxes\n",
    "        #print(x, y, h, w)\n",
    "        class_name=classes[int(class_ids)]\n",
    "        \n",
    "        if class_name==\"bottle\":\n",
    "        \n",
    "            cv2.putText(frame, str(class_name), (x, y - 5), cv2.FONT_HERSHEY_PLAIN, 3, (200, 0, 50), 2)\n",
    "            cv2.rectangle(frame, (x,y), (x+w,y+h), (200, 0, 50), 3)\n",
    "    #print(\"class\", class_ids)\n",
    "    #print(\"scores\", score)\n",
    "    #print(\"boxes\", bound_boxes)\n",
    "    \n",
    "    cv2.imshow(\"Frame\", frame)\n",
    "\n",
    "    \n",
    "    k = cv2.waitKey(1)\n",
    "    if k == ord('q'):\n",
    "        cap.release()\n",
    "        cv2. destroyAllWindows()\n",
    "        break\n",
    "        \n",
    "\"\"\""
   ]
  },
  {
   "cell_type": "code",
   "execution_count": null,
   "id": "9b6de5fe",
   "metadata": {},
   "outputs": [],
   "source": []
  }
 ],
 "metadata": {
  "kernelspec": {
   "display_name": "Python 3 (ipykernel)",
   "language": "python",
   "name": "python3"
  },
  "language_info": {
   "codemirror_mode": {
    "name": "ipython",
    "version": 3
   },
   "file_extension": ".py",
   "mimetype": "text/x-python",
   "name": "python",
   "nbconvert_exporter": "python",
   "pygments_lexer": "ipython3",
   "version": "3.9.7"
  }
 },
 "nbformat": 4,
 "nbformat_minor": 5
}
